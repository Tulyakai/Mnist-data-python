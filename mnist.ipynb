{
  "nbformat": 4,
  "nbformat_minor": 0,
  "metadata": {
    "colab": {
      "name": "mnist.ipynb",
      "provenance": [],
      "collapsed_sections": [],
      "mount_file_id": "1k_Mx38VlSoJt8W9kktihBESv6CgUk-lK",
      "authorship_tag": "ABX9TyNN/4Y10BanP5ZBguiL7qDq",
      "include_colab_link": true
    },
    "kernelspec": {
      "name": "python3",
      "display_name": "Python 3"
    },
    "accelerator": "GPU"
  },
  "cells": [
    {
      "cell_type": "markdown",
      "metadata": {
        "id": "view-in-github",
        "colab_type": "text"
      },
      "source": [
        "<a href=\"https://colab.research.google.com/github/Tulyakai/Mnist-data-python/blob/main/mnist.ipynb\" target=\"_parent\"><img src=\"https://colab.research.google.com/assets/colab-badge.svg\" alt=\"Open In Colab\"/></a>"
      ]
    },
    {
      "cell_type": "code",
      "metadata": {
        "colab": {
          "base_uri": "https://localhost:8080/"
        },
        "id": "g8x9hrJlLKb3",
        "outputId": "fdd6aec0-9853-488b-da3d-5528fcfe4e9d"
      },
      "source": [
        "!nvidia-smi"
      ],
      "execution_count": null,
      "outputs": [
        {
          "output_type": "stream",
          "text": [
            "Wed Mar  3 10:47:31 2021       \n",
            "+-----------------------------------------------------------------------------+\n",
            "| NVIDIA-SMI 460.39       Driver Version: 460.32.03    CUDA Version: 11.2     |\n",
            "|-------------------------------+----------------------+----------------------+\n",
            "| GPU  Name        Persistence-M| Bus-Id        Disp.A | Volatile Uncorr. ECC |\n",
            "| Fan  Temp  Perf  Pwr:Usage/Cap|         Memory-Usage | GPU-Util  Compute M. |\n",
            "|                               |                      |               MIG M. |\n",
            "|===============================+======================+======================|\n",
            "|   0  Tesla T4            Off  | 00000000:00:04.0 Off |                    0 |\n",
            "| N/A   60C    P8    10W /  70W |      0MiB / 15109MiB |      0%      Default |\n",
            "|                               |                      |                  N/A |\n",
            "+-------------------------------+----------------------+----------------------+\n",
            "                                                                               \n",
            "+-----------------------------------------------------------------------------+\n",
            "| Processes:                                                                  |\n",
            "|  GPU   GI   CI        PID   Type   Process name                  GPU Memory |\n",
            "|        ID   ID                                                   Usage      |\n",
            "|=============================================================================|\n",
            "|  No running processes found                                                 |\n",
            "+-----------------------------------------------------------------------------+\n"
          ],
          "name": "stdout"
        }
      ]
    },
    {
      "cell_type": "code",
      "metadata": {
        "colab": {
          "base_uri": "https://localhost:8080/"
        },
        "id": "iYztFCW0cTy-",
        "outputId": "de2327ab-a760-4d48-d5a5-b64d5fd1f45e"
      },
      "source": [
        "from google.colab import drive\r\n",
        "drive = drive.mount('/content/drive')\r\n",
        "!ls '/content/drive/MyDrive/Machine Learning/mnist_dataset'"
      ],
      "execution_count": null,
      "outputs": [
        {
          "output_type": "stream",
          "text": [
            "Drive already mounted at /content/drive; to attempt to forcibly remount, call drive.mount(\"/content/drive\", force_remount=True).\n",
            "mnist.ipynb  mnist_test.csv  mnist_train.csv\n"
          ],
          "name": "stdout"
        }
      ]
    },
    {
      "cell_type": "code",
      "metadata": {
        "id": "QL1iA-oSLUVT"
      },
      "source": [
        "import pandas as pd\r\n",
        "from sklearn.neighbors import KNeighborsClassifier\r\n",
        "from sklearn.model_selection import train_test_split\r\n",
        "import matplotlib.pyplot as plt\r\n",
        "import numpy as np\r\n",
        "from sklearn import metrics\r\n",
        "\r\n",
        "#Data preparation\r\n",
        "train_data = pd.read_csv('/content/drive/MyDrive/Machine Learning/mnist_dataset/mnist_train.csv')\r\n",
        "test_data = pd.read_csv('/content/drive/MyDrive/Machine Learning/mnist_dataset/mnist_test.csv')\r\n",
        "\r\n",
        "#Train dataset\r\n",
        "x1 = train_data.values\r\n",
        "x_train = np.delete(x1,0,1)\r\n",
        "y_train = train_data['label']\r\n",
        "\r\n",
        "#Test dataset\r\n",
        "x2 = test_data.values\r\n",
        "x_test = np.delete(x2,0,1)\r\n",
        "y_test = test_data['label']\r\n",
        "#Model\r\n",
        "model = KNeighborsClassifier(n_neighbors=1)\r\n",
        "#Traning\r\n",
        "model.fit(x_train, y_train)\r\n",
        "#Predict\r\n",
        "y_pred = model.predict(x_test)"
      ],
      "execution_count": null,
      "outputs": []
    },
    {
      "cell_type": "code",
      "metadata": {
        "id": "XL8sa0bzMgNv"
      },
      "source": [
        ""
      ],
      "execution_count": null,
      "outputs": []
    },
    {
      "cell_type": "code",
      "metadata": {
        "colab": {
          "base_uri": "https://localhost:8080/",
          "height": 279
        },
        "id": "CV7-_0mhT1sC",
        "outputId": "a3c8284d-383f-44d0-857f-a9a04be2f66e"
      },
      "source": [
        "#plt.imshow(x_test[100].reshape(28,28), cmap='binary')\r\n",
        "#Create Dataframe\r\n",
        "df = pd.DataFrame({'Actual':y_test, 'Idael':y_pred})\r\n",
        "df1 = df.head(50)\r\n",
        "df1.plot()\r\n",
        "plt.grid()\r\n",
        "plt.xlabel('Feature datas')\r\n",
        "plt.ylabel('Number')\r\n",
        "#Check number\r\n",
        "# print(y_train[10])\r\n",
        "# plt.imshow(x_train[10].reshape(28, 28), cmap='binary')\r\n",
        "plt.show()"
      ],
      "execution_count": null,
      "outputs": [
        {
          "output_type": "display_data",
          "data": {
            "image/png": "[encoded data removed]",
            "text/plain": [
              "<Figure size 432x288 with 1 Axes>"
            ]
          },
          "metadata": {
            "tags": [],
            "needs_background": "light"
          }
        }
      ]
    },
    {
      "cell_type": "code",
      "metadata": {
        "colab": {
          "base_uri": "https://localhost:8080/"
        },
        "id": "Czj0lk3-gNyX",
        "outputId": "476136c8-5596-4615-e3d0-1f41c2de6122"
      },
      "source": [
        "print(metrics.classification_report(y_test,y_pred))\r\n"
      ],
      "execution_count": null,
      "outputs": [
        {
          "output_type": "stream",
          "text": [
            "              precision    recall  f1-score   support\n",
            "\n",
            "           0       0.98      0.99      0.99       980\n",
            "           1       0.97      0.99      0.98      1135\n",
            "           2       0.98      0.96      0.97      1032\n",
            "           3       0.96      0.96      0.96      1010\n",
            "           4       0.97      0.96      0.97       982\n",
            "           5       0.95      0.96      0.96       892\n",
            "           6       0.98      0.99      0.98       958\n",
            "           7       0.96      0.96      0.96      1028\n",
            "           8       0.98      0.94      0.96       974\n",
            "           9       0.96      0.96      0.96      1009\n",
            "\n",
            "    accuracy                           0.97     10000\n",
            "   macro avg       0.97      0.97      0.97     10000\n",
            "weighted avg       0.97      0.97      0.97     10000\n",
            "\n",
            "0.9353861291292539\n"
          ],
          "name": "stdout"
        }
      ]
    },
    {
      "cell_type": "code",
      "metadata": {
        "colab": {
          "base_uri": "https://localhost:8080/"
        },
        "id": "cIa-5Xw4tDJl",
        "outputId": "e058567c-f817-46c3-cbd3-0ce5552cac64"
      },
      "source": [
        "print(train_data.values[0])"
      ],
      "execution_count": null,
      "outputs": [
        {
          "output_type": "stream",
          "text": [
            "[  5   0   0   0   0   0   0   0   0   0   0   0   0   0   0   0   0   0\n",
            "   0   0   0   0   0   0   0   0   0   0   0   0   0   0   0   0   0   0\n",
            "   0   0   0   0   0   0   0   0   0   0   0   0   0   0   0   0   0   0\n",
            "   0   0   0   0   0   0   0   0   0   0   0   0   0   0   0   0   0   0\n",
            "   0   0   0   0   0   0   0   0   0   0   0   0   0   0   0   0   0   0\n",
            "   0   0   0   0   0   0   0   0   0   0   0   0   0   0   0   0   0   0\n",
            "   0   0   0   0   0   0   0   0   0   0   0   0   0   0   0   0   0   0\n",
            "   0   0   0   0   0   0   0   0   0   0   0   0   0   0   0   0   0   0\n",
            "   0   0   0   0   0   0   0   0   0   3  18  18  18 126 136 175  26 166\n",
            " 255 247 127   0   0   0   0   0   0   0   0   0   0   0   0  30  36  94\n",
            " 154 170 253 253 253 253 253 225 172 253 242 195  64   0   0   0   0   0\n",
            "   0   0   0   0   0   0  49 238 253 253 253 253 253 253 253 253 251  93\n",
            "  82  82  56  39   0   0   0   0   0   0   0   0   0   0   0   0  18 219\n",
            " 253 253 253 253 253 198 182 247 241   0   0   0   0   0   0   0   0   0\n",
            "   0   0   0   0   0   0   0   0   0  80 156 107 253 253 205  11   0  43\n",
            " 154   0   0   0   0   0   0   0   0   0   0   0   0   0   0   0   0   0\n",
            "   0   0  14   1 154 253  90   0   0   0   0   0   0   0   0   0   0   0\n",
            "   0   0   0   0   0   0   0   0   0   0   0   0   0   0 139 253 190   2\n",
            "   0   0   0   0   0   0   0   0   0   0   0   0   0   0   0   0   0   0\n",
            "   0   0   0   0   0   0  11 190 253  70   0   0   0   0   0   0   0   0\n",
            "   0   0   0   0   0   0   0   0   0   0   0   0   0   0   0   0   0  35\n",
            " 241 225 160 108   1   0   0   0   0   0   0   0   0   0   0   0   0   0\n",
            "   0   0   0   0   0   0   0   0   0   0  81 240 253 253 119  25   0   0\n",
            "   0   0   0   0   0   0   0   0   0   0   0   0   0   0   0   0   0   0\n",
            "   0   0   0  45 186 253 253 150  27   0   0   0   0   0   0   0   0   0\n",
            "   0   0   0   0   0   0   0   0   0   0   0   0   0   0  16  93 252 253\n",
            " 187   0   0   0   0   0   0   0   0   0   0   0   0   0   0   0   0   0\n",
            "   0   0   0   0   0   0   0   0 249 253 249  64   0   0   0   0   0   0\n",
            "   0   0   0   0   0   0   0   0   0   0   0   0   0   0   0  46 130 183\n",
            " 253 253 207   2   0   0   0   0   0   0   0   0   0   0   0   0   0   0\n",
            "   0   0   0   0   0  39 148 229 253 253 253 250 182   0   0   0   0   0\n",
            "   0   0   0   0   0   0   0   0   0   0   0   0   0  24 114 221 253 253\n",
            " 253 253 201  78   0   0   0   0   0   0   0   0   0   0   0   0   0   0\n",
            "   0   0   0  23  66 213 253 253 253 253 198  81   2   0   0   0   0   0\n",
            "   0   0   0   0   0   0   0   0   0   0   0  18 171 219 253 253 253 253\n",
            " 195  80   9   0   0   0   0   0   0   0   0   0   0   0   0   0   0   0\n",
            "   0  55 172 226 253 253 253 253 244 133  11   0   0   0   0   0   0   0\n",
            "   0   0   0   0   0   0   0   0   0   0   0 136 253 253 253 212 135 132\n",
            "  16   0   0   0   0   0   0   0   0   0   0   0   0   0   0   0   0   0\n",
            "   0   0   0   0   0   0   0   0   0   0   0   0   0   0   0   0   0   0\n",
            "   0   0   0   0   0   0   0   0   0   0   0   0   0   0   0   0   0   0\n",
            "   0   0   0   0   0   0   0   0   0   0   0   0   0   0   0   0   0   0\n",
            "   0   0   0   0   0   0   0   0   0   0   0   0   0   0   0   0   0   0\n",
            "   0   0   0   0   0   0   0   0   0   0   0]\n"
          ],
          "name": "stdout"
        }
      ]
    },
    {
      "cell_type": "code",
      "metadata": {
        "id": "KMTJVLL2xBY-"
      },
      "source": [
        ""
      ],
      "execution_count": null,
      "outputs": []
    }
  ]
}